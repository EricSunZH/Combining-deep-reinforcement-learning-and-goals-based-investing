{
 "cells": [
  {
   "cell_type": "code",
   "execution_count": 12,
   "metadata": {},
   "outputs": [],
   "source": [
    "import ddpg_tf_orig import Agent\n",
    "import gym\n",
    "import numpy as np\n",
    "from utils import plotLearning"
   ]
  },
  {
   "cell_type": "code",
   "execution_count": null,
   "metadata": {},
   "outputs": [],
   "source": [
    "if __name__ == '__main__':\n",
    "\n",
    "    env = gym.make('Pendulum-v0')\n",
    "\n",
    "    agent = Agent(alpha = 0.0001, beta = 0.001, input_dims = [3], tau = 0.001, env = env,\n",
    "                  batch_size = 64, layer1_size = 400, layer2_size = 300, n_actions = 1)\n",
    "\n",
    "    score_history = []\n",
    "    np.random.seed(0)\n",
    "    \n",
    "    for i in range(1000):\n",
    "        obs = env.reset\n",
    "        done = False\n",
    "        score = 0\n",
    "        while not done:\n",
    "            act = agent.choose_action(obs)\n",
    "            new_state, reward, done, info = env.step(act)\n",
    "            agent.remember(obs, act, reward, new_state, int(done))\n",
    "            agent.learn()\n",
    "            score += reward\n",
    "            obs = new_state\n",
    "            \n",
    "        score_history.append(score)\n",
    "        print('episode', i, 'score %.2f' % score,\n",
    "             '100 game average %.2f' % np.mean(score_history[-100:]))\n",
    "        \n",
    "    filename = 'pendulum.png'\n",
    "    plotLearning(score_history, filename, window = 100)"
   ]
  }
 ],
 "metadata": {
  "kernelspec": {
   "display_name": "Python 3",
   "language": "python",
   "name": "python3"
  },
  "language_info": {
   "codemirror_mode": {
    "name": "ipython",
    "version": 3
   },
   "file_extension": ".py",
   "mimetype": "text/x-python",
   "name": "python",
   "nbconvert_exporter": "python",
   "pygments_lexer": "ipython3",
   "version": "3.7.3"
  }
 },
 "nbformat": 4,
 "nbformat_minor": 2
}
